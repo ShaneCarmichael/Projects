{
 "cells": [
  {
   "cell_type": "markdown",
   "metadata": {},
   "source": [
    "## Import libraries"
   ]
  },
  {
   "cell_type": "code",
   "execution_count": 2,
   "metadata": {
    "executionInfo": {
     "elapsed": 1237,
     "status": "ok",
     "timestamp": 1626405862201,
     "user": {
      "displayName": "Shane Carmichael",
      "photoUrl": "https://lh3.googleusercontent.com/a-/AOh14GhARZKCeV3TDGhW2f1qLSh4PT7TVnRp7DoR8hUY=s64",
      "userId": "18044721804958365479"
     },
     "user_tz": -600
    },
    "id": "pOeaHU8WV9Cp"
   },
   "outputs": [],
   "source": [
    "import pandas as pd\n",
    "import re\n",
    "import numpy as np\n",
    "import matplotlib.pyplot as plt\n",
    "import matplotlib.pylab as pylab \n",
    "from matplotlib.offsetbox import AnchoredText\n",
    "import seaborn as sns\n",
    "from datetime import datetime, date"
   ]
  },
  {
   "cell_type": "markdown",
   "metadata": {},
   "source": [
    "## Define functions"
   ]
  },
  {
   "cell_type": "code",
   "execution_count": 4,
   "metadata": {
    "executionInfo": {
     "elapsed": 264,
     "status": "ok",
     "timestamp": 1626407211413,
     "user": {
      "displayName": "Shane Carmichael",
      "photoUrl": "https://lh3.googleusercontent.com/a-/AOh14GhARZKCeV3TDGhW2f1qLSh4PT7TVnRp7DoR8hUY=s64",
      "userId": "18044721804958365479"
     },
     "user_tz": -600
    },
    "id": "XLwOAK5PV9Cs"
   },
   "outputs": [],
   "source": [
    "def cleanspaces(text):\n",
    "    #used to clean empty spaces from strings\n",
    "    text = re.sub('\\s+', '', text)\n",
    "    return text\n",
    "\n",
    "def getkw(text):\n",
    "    #used to get kW value from string\n",
    "    patternls = r'(\\d{1,5})\\s?[Ll][/][Ss]'\n",
    "    patternkw = r'(\\d{1,3})\\s?[Kk][Ww]'\n",
    "    \n",
    "    flags = re.IGNORECASE\n",
    "    outputlstext = re.findall(patternls, text, flags = flags)\n",
    "    outputls = [float(i) for i in outputlstext]\n",
    "    outputkwtext = re.findall(patternkw, text, flags = flags)\n",
    "    outputkw = [float(i) for i in outputkwtext]\n",
    "          \n",
    "    if len(outputkw) == 0:\n",
    "        if len(outputls) != 0:\n",
    "            outputmaxkw = max(outputls)/50\n",
    "        else:\n",
    "            outputmaxkw = 0\n",
    "    else:\n",
    "        outputmaxkw = max(outputkw)\n",
    "        \n",
    "    return outputmaxkw\n",
    "\n",
    "def getls(text):\n",
    "    #used to get airflow value from string\n",
    "    patternls = r'(\\d{1,5})\\s?[Ll][/][Ss]'\n",
    "    patternkw = r'(\\d{1,3})\\s?[Kk][Ww]'\n",
    "    \n",
    "    flags = re.IGNORECASE\n",
    "    outputlstext = re.findall(patternls, text, flags = flags)\n",
    "    outputls = [float(i) for i in outputlstext]\n",
    "    outputkwtext = re.findall(patternkw, text, flags = flags)\n",
    "    outputkw = [float(i) for i in outputkwtext]\n",
    "    \n",
    "    if len(outputls) == 0:\n",
    "        if len(outputkw) != 0:\n",
    "            outputmaxls = max(outputkw)*50\n",
    "        else:\n",
    "            outputmaxls = 0\n",
    "    else:\n",
    "        outputmaxls = max(outputls)\n",
    "        \n",
    "    return outputmaxls   \n",
    "\n",
    "def getecon(text):\n",
    "    #used to get econmy cycle value from string\n",
    "    patternecon = r'econ'\n",
    "    flags = re.IGNORECASE\n",
    "    outputecontext = re.findall(patternecon, text, flags = flags)      \n",
    "    if len(outputecontext) >= 1:\n",
    "        outputecon = 1\n",
    "    else:\n",
    "        outputecon = 0\n",
    "    return outputecon\n",
    "\n",
    "def printhist(dfcol,xlabel = 'x',title = 'Title',color = 'blue'):\n",
    "    median = (f'Median = {round(dfcol.median(),2)}')\n",
    "    plt.figure()\n",
    "    plt.rcParams[\"axes.labelsize\"] = 15\n",
    "    plt.rcParams[\"axes.titlesize\"] = 20\n",
    "    ax = dfcol.hist(bins = 40, figsize = (10,8), color = color, alpha = 0.8)\n",
    "    plt.xlabel(xlabel)\n",
    "    plt.ylabel('Frequency')\n",
    "    plt.title(title)\n",
    "    at = AnchoredText(median,frameon=True,loc='upper right',)\n",
    "    at.patch.set_boxstyle(\"round,pad=0.,rounding_size=0.2\")\n",
    "    ax.add_artist(at)\n",
    "    plt.show()\n",
    "    \n",
    "def printhist2(dfcol1, dfcol2,dfcol1_label = 'df1',dfcol2_label = 'df2',xlabel = 'x',title = 'Title',color1 = 'orange'\n",
    "              , color2 = 'green'):\n",
    "    plt.figure()\n",
    "    plt.rcParams[\"axes.labelsize\"] = 15\n",
    "    plt.rcParams[\"axes.titlesize\"] = 20\n",
    "\n",
    "    dfcol1.hist(bins = 80, label = dfcol1_label, density = True, figsize = (10,8), color = color1, alpha = 0.8)\n",
    "    dfcol2.hist(bins = 80,label = dfcol2_label,  density = True, figsize = (10,8), color = color2, alpha = 0.8)\n",
    "    plt.xlabel(xlabel)\n",
    "    plt.ylabel('Frequency')\n",
    "    plt.title(title)\n",
    "    plt.legend()\n",
    "    plt.show()\n",
    "    \n",
    "def printlineplot(x,y,xlabel = 'x',ylabel = 'y',title = 'Title',color = 'blue'):\n",
    "    plt.figure()\n",
    "    plt.rcParams[\"axes.labelsize\"] = 15\n",
    "    plt.rcParams[\"axes.titlesize\"] = 20\n",
    "    ax = plt.plot(x,y,color = color, alpha = 0.8)\n",
    "    plt.xlabel(xlabel)\n",
    "    plt.ylabel(ylabel)\n",
    "    plt.title(title)\n",
    "    plt.show()"
   ]
  },
  {
   "cell_type": "markdown",
   "metadata": {},
   "source": [
    "## Clean Data"
   ]
  },
  {
   "cell_type": "code",
   "execution_count": 5,
   "metadata": {
    "executionInfo": {
     "elapsed": 277,
     "status": "ok",
     "timestamp": 1626407413778,
     "user": {
      "displayName": "Shane Carmichael",
      "photoUrl": "https://lh3.googleusercontent.com/a-/AOh14GhARZKCeV3TDGhW2f1qLSh4PT7TVnRp7DoR8hUY=s64",
      "userId": "18044721804958365479"
     },
     "user_tz": -600
    },
    "id": "xM6iGbmgV9Cw",
    "scrolled": true
   },
   "outputs": [],
   "source": [
    "#import data\n",
    "dfjobsraw = pd.read_excel('jobs5y.xlsx')\n",
    "dfcostraw = pd.read_excel('cost5y.xls')\n",
    "dfquotesraw = pd.read_excel('Quotes.xlsx')\n",
    "\n",
    "#remove unused columns\n",
    "col_list = [0,4,5,6,10,13]\n",
    "dfjobsclean = dfjobsraw.iloc[0:-1,col_list]\n",
    "\n",
    "#rename columns\n",
    "dfjobsclean = dfjobsclean.rename(columns={'omlUnitPriceBase': 'sellvalue','jmpCompletedDate': 'completeddate'})\n",
    "\n",
    "#fill NA values\n",
    "dfjobsclean['jmpPartLongDescriptionText'] = dfjobsclean['jmpPartLongDescriptionText'].fillna(dfjobsclean['jmpPartShortDescription'])\n",
    "\n",
    "#clean strings\n",
    "dfjobsclean['jmpJobID'] = dfjobsclean['jmpJobID'].apply(cleanspaces)\n",
    "dfjobsclean['omlPartGroupID'] = dfjobsclean['omlPartGroupID'].apply(cleanspaces)\n",
    "\n",
    "#clean date and price type\n",
    "dfjobsclean[\"completeddate\"] = pd.to_datetime(dfjobsclean[\"completeddate\"])\n",
    "dfjobsclean['sellvalue'] = dfjobsclean['sellvalue'].apply(float)\n",
    "\n",
    "#include rows with relevant part groups number\n",
    "partgroup_list = ['RTP', 'PP', 'ERVCO', 'DEHUM', 'PCU']\n",
    "dfjobsclean = dfjobsclean[dfjobsclean['omlPartGroupID'].isin(partgroup_list)]\n",
    "\n",
    "#apply regular expression to long description to add additional features\n",
    "dfjobsclean['kw'] = dfjobsclean['jmpPartLongDescriptionText'].apply(getkw)\n",
    "dfjobsclean['ls'] = dfjobsclean['jmpPartLongDescriptionText'].apply(getls)\n",
    "dfjobsclean['econ'] = dfjobsclean['jmpPartLongDescriptionText'].apply(getecon)\n",
    "\n",
    "#apply regular expression to short description for jobs with insufficeint info in long description\n",
    "df_temp = dfjobsclean[dfjobsclean['kw']==0].copy()\n",
    "df_temp['kw'] = df_temp['jmpPartShortDescription'].apply(getkw)\n",
    "df_temp['ls'] = df_temp['jmpPartShortDescription'].apply(getls)\n",
    "df_temp['econ'] = df_temp['jmpPartShortDescription'].apply(getecon)\n",
    "\n",
    "#remove zero values\n",
    "dfjobsclean = dfjobsclean[dfjobsclean['ls'] != 0]\n",
    "df_temp = df_temp[df_temp['ls'] != 0]\n",
    "\n",
    "#add back temp values\n",
    "dfjobsclean = pd.concat([dfjobsclean,df_temp])\n",
    "\n",
    "today = datetime.today()\n",
    "dfjobsclean['age'] = dfjobsclean['completeddate'].apply(\n",
    "               lambda x: (today- x).days)\n",
    "\n",
    "#clean costs dataset\n",
    "\n",
    "#drop full NA rows and columns\n",
    "dfcostclean = dfcostraw.dropna(how = 'all', axis = 0 | 1)\n",
    "\n",
    "#locate columns of interest\n",
    "dfcostclean = dfcostclean.iloc[:,[0,1,7,8,9]]\n",
    "\n",
    "#reset index\n",
    "dfcostclean.reset_index(drop=True, inplace=True)\n",
    "\n",
    "#set column names\n",
    "dfcostclean.columns = ['title', 'jobid','labourhours', 'title2', 'cost']\n",
    "\n",
    "#create new dataframes from intitial dataframe\n",
    "df_jobid = dfcostclean[dfcostclean['title'] =='Job Status Summary']\n",
    "df_cost = dfcostclean[dfcostclean['title2'] =='Total Cost']\n",
    "df_labour = dfcostclean[dfcostclean['title'] =='Labour Cost']\n",
    "\n",
    "#get lists of each feature of interest\n",
    "jobidlist = df_jobid['jobid'].tolist()\n",
    "costlist = df_cost['cost'].tolist()\n",
    "labourlist = df_labour['labourhours'].tolist()\n",
    "\n",
    "#create final dataframe from lists\n",
    "df_costsorted = pd.DataFrame({'jmpJobID':jobidlist, 'cost':costlist, 'labourhours':labourlist})\n",
    "\n",
    "#merge dataframes\n",
    "dfmerged = pd.merge(dfjobsclean, df_costsorted, on=\"jmpJobID\")\n",
    "dfmerged['GP'] = dfmerged['sellvalue'] - dfmerged['cost']\n",
    "dfmerged['GM'] = dfmerged['GP'] / dfmerged['sellvalue']\n",
    "dfmerged['GM'] = dfmerged['GM'].round(2)\n",
    "\n",
    "#remove outliers\n",
    "dfmerged_clean = dfmerged\n",
    "dfmerged_clean = dfmerged_clean[(dfmerged_clean['cost'] < 80000) & (dfmerged_clean['cost'] > 10000)].copy()  \n",
    "\n",
    "#resetindex\n",
    "dfmerged_clean = dfmerged_clean.reset_index(drop=True)\n",
    "dfmerged_clean.to_csv('df_clean.csv', index = False)"
   ]
  },
  {
   "cell_type": "markdown",
   "metadata": {},
   "source": [
    "## General EDA"
   ]
  },
  {
   "cell_type": "code",
   "execution_count": 5,
   "metadata": {},
   "outputs": [
    {
     "data": {
      "image/png": "[encoded data removed]",
      "text/plain": [
       "<Figure size 720x576 with 1 Axes>"
      ]
     },
     "metadata": {
      "needs_background": "light"
     },
     "output_type": "display_data"
    },
    {
     "data": {
      "image/png": "[encoded data removed]",
      "text/plain": [
       "<Figure size 720x576 with 1 Axes>"
      ]
     },
     "metadata": {
      "needs_background": "light"
     },
     "output_type": "display_data"
    }
   ],
   "source": [
    "printhist(dfmerged_clean['GM'], 'Cost', 'Cost Distribution', 'blue')\n",
    "printhist(dfmerged_clean['GM'], 'Gross Margin', 'Actual Gross Margin Distribution', 'green')"
   ]
  }
 ],
 "metadata": {
  "colab": {
   "collapsed_sections": [],
   "name": "Capstone 7y.ipynb",
   "provenance": []
  },
  "kernelspec": {
   "display_name": "Python 3",
   "language": "python",
   "name": "python3"
  },
  "language_info": {
   "codemirror_mode": {
    "name": "ipython",
    "version": 3
   },
   "file_extension": ".py",
   "mimetype": "text/x-python",
   "name": "python",
   "nbconvert_exporter": "python",
   "pygments_lexer": "ipython3",
   "version": "3.8.5"
  }
 },
 "nbformat": 4,
 "nbformat_minor": 1
}
